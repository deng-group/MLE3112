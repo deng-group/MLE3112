{
 "cells": [
  {
   "cell_type": "markdown",
   "metadata": {},
   "source": [
    "# Task 1: Automated Experiment\n",
    "You will create a script to run the experiment automatically. You should write automated_measurement() function to run the experiment. The function should return the data you want to save.\n",
    "\n",
    "- You should write the code to run the automated experiment using the arguments above\n",
    "- The data will be saved into `data_file` (in csv format) using `pandas` library\n",
    "- The data file should contain 3 columns: `['position', 'wavelength', 'intensity']`, where `position` is the position (in angle) of the motor, `wavelength` is the wavelength of the spectrometer at each position, and `intensity` is the intensity of the spectrometer at each position\n",
    "- For position, we will do 0, 15, 30, ..., 345. (24 measurements each group)\n",
    "\n",
    "You should write your Python function like this:\n",
    "\n",
    "```python\n",
    "def automated_measurement(serial_number, start, stop, step, data_file, max_num_failure, tol, integration_time, kinesis_path, avaspecx64_dll_path):\n",
    "   # write your code here\n",
    "```\n",
    "\n",
    "Then you should be able to run this code:\n",
    "\n",
    "```python\n",
    "# for single filter\n",
    "ser = '27004046' # you might need to change this to your motor serial number\n",
    "automated_measurement(serial_number = ser, start=0, end=360, step=10, \n",
    "                      data_file='data.csv', max_num_failure=5, tol=1e-3, \n",
    "                      integration_time=100, \n",
    "                      kinesis_path='C:/Program Files/Thorlabs/Kinesis', \n",
    "                      avaspecx64_dll_path='C:/AvaSpecX64-DLL_9.14.0.0/avaspecx64.dll')\n",
    "```"
   ]
  },
  {
   "cell_type": "code",
   "execution_count": null,
   "metadata": {},
   "outputs": [],
   "source": [
    "from mle3112.motor import drive_motor\n",
    "from mle3112.spectrometer import drive_spectrometer\n",
    "\n",
    "# Make sure to set the correct paths for the avaspecx64.dll and Kinesis\n",
    "avaspecx64_dll_path='C:/AvaSpecX64-DLL_9.14.0.0/avaspecx64.dll'\n",
    "kinesis_path = 'C:/Program Files/Thorlabs/Kinesis'\n",
    "\n",
    "# Make sure to set the correct serial number for the motor controller\n",
    "serial_number = '27004046'\n",
    "\n",
    "# Write automated_measurement() here and use it to run an automated measurement"
   ]
  },
  {
   "cell_type": "markdown",
   "metadata": {},
   "source": [
    "# Task 2: Visualize Your Data\n",
    "You will write a `plot()` function to visualize your data. The function should take the `data_file` as input and save the plot as `plot.pdf`.\n",
    "\n",
    "- The `plot()` function will read the data from the `data_file` using `pandas`, and plot the intensity as a function of the wavelength for each position using `matplotlib`.\n",
    "- The plot should have a title, x-axis label, and y-axis label.\n",
    "- The plot should be saved as separate files for different `position` (e.g., `f\"plot_{position}.pdf\"`).\n",
    "- You will plot 0, 60, 120, 180, 240 (5 plots)\n",
    "- You can use following to convert the string to a list:\n",
    "```python\n",
    "import ast\n",
    "df['col_name'] = df['col_name'].apply(lambda x: ast.literal_eval(x))\n",
    "```\n",
    "\n",
    "Your code should look like this:\n",
    "```python\n",
    "def plot(data_file):\n",
    "    # write your code here\n",
    "```\n",
    "\n",
    "Then you should be able to run this code:\n",
    "\n",
    "```python\n",
    "plot(data_file)\n",
    "```\n",
    "\n"
   ]
  },
  {
   "cell_type": "code",
   "execution_count": null,
   "metadata": {},
   "outputs": [],
   "source": [
    "# Write plot() here and use it to plot your data"
   ]
  },
  {
   "cell_type": "markdown",
   "metadata": {},
   "source": [
    "# Task 3: Angle vs. Integrated Intensity\n",
    "You will also write a `plot_integrated_intensity()` function to plot the integrated intensity as a function of angle abd compare to your previous obtained adsorption vs angle results. The function should take the `data_file` as input and save the plot as `integrated_intensity.pdf`.\n",
    "\n",
    "- You should write a `calculate_integrated_intensity()` function to compute the integrated intensity for each position using `wavelength` and `intensity`. `calculated_integrated_intensity()` function should return a list of integrated intensity for each position.\n",
    "- The integrated intensity is the sum of the intensity at each wavelength for each position. You can use `numpy.trapz()` to calculate the integrated intensity. You can refer to the numpy API here: https://numpy.org/doc/1.25/reference/generated/numpy.trapz.html\n",
    "- The `plot_integrated_intensity()` function will read the data from the `data_file` using `pandas`, calculate the integrated intensity using `calculated_integrated_intensity()`, and plot the integrated intensity as a function of the position using `matplotlib`.\n",
    "- The plot should have a title, x-axis label, and y-axis label.\n",
    "- The plot should be saved as `integrated_intensity.pdf`.\n",
    "- You should compare your integrated intensity plot with the adsorption vs angle results you obtained previously.\n",
    "\n",
    "You should write your function like:\n",
    "\n",
    "```python\n",
    "def calculate_integrated_intensity(wavelength, intensity):\n",
    "    # write your code here\n",
    "    return integrated_intensity\n",
    "\n",
    "def plot_integrated_intensity(data_file):\n",
    "    # write your code here\n",
    "```\n",
    "\n",
    "Then you should be able to run this code:\n",
    "\n",
    "```python\n",
    "plot_integrated_intensity(data_file)\n",
    "```"
   ]
  },
  {
   "cell_type": "code",
   "execution_count": null,
   "metadata": {},
   "outputs": [],
   "source": [
    "# Write calculate_integrated_intensity() here"
   ]
  },
  {
   "cell_type": "code",
   "execution_count": null,
   "metadata": {},
   "outputs": [],
   "source": [
    "# Write plot_integrated_intensity() here and use it to plot your data"
   ]
  }
 ],
 "metadata": {
  "kernelspec": {
   "display_name": ".venv",
   "language": "python",
   "name": "python3"
  },
  "language_info": {
   "name": "python",
   "version": "3.12.7"
  }
 },
 "nbformat": 4,
 "nbformat_minor": 2
}
