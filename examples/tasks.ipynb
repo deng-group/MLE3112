{
 "cells": [
  {
   "cell_type": "markdown",
   "metadata": {},
   "source": [
    "# Task 1: Automated Experiment\n",
    "You will create a script to run the experiment automatically. You should write automated_measurement() function to run the experiment. The function should return the data you want to save.\n",
    "\n",
    "- You should write the code to run the automated experiment using the arguments above\n",
    "- The data will be saved into `data_file` (in csv format) using `pandas` library\n",
    "- The data file should contain 3 columns: `['position', 'wavelength', 'intensity']`, where `position` is the position (in angle) of the motor, `wavelength` is the wavelength of the spectrometer at each position, and `intensity` is the intensity of the spectrometer at each position\n",
    "- For position, we will do 0, 15, 30, ..., 345. (24 measurements each group)\n",
    "- Add a `dry_run` flag to your function for testing stage. If `dry_run` is `True`, the function should only print the position without driving motor and spectrometer. If `dry_run` is `False`, the function should run the experiment and save the data to the file.\n",
    "\n",
    "You should write your Python function like this:\n",
    "\n",
    "```python\n",
    "def automated_measurement(serial_number, start, stop, step, data_file, max_num_failure, tol, integration_time, kinesis_path, avaspecx64_dll_path, dry_run):\n",
    "```\n",
    "\n",
    "Then you should be able to run this code:\n",
    "\n",
    "```python\n",
    "automated_measurement(serial_number, start, stop, step, data_file, max_num_failure, tol, integration_time, kinesis_path, avaspecx64_dll_path, dry_run)\n",
    "```"
   ]
  },
  {
   "cell_type": "code",
   "execution_count": null,
   "metadata": {},
   "outputs": [],
   "source": [
    "from mle3112.motor import drive_motor\n",
    "from mle3112.spectrometer import drive_spectrometer\n",
    "\n",
    "# Write automated_measurement() here and use it to run an automated measurement\n",
    "def automated_measurement(serial_number, start, stop, step, \n",
    "                          data_file, max_num_failure, tol, \n",
    "                          integration_time, kinesis_path, avaspecx64_dll_path,\n",
    "                          dry_run):\n",
    "    # Write your code here\n",
    "\n",
    "    # You should first drive motor to the start position\n",
    "\n",
    "    # You should generate a list of positions to drive the motor from start, stop and step using the range() function\n",
    "\n",
    "    # You should create an empty list to store the data\n",
    "\n",
    "    # Then you should create a loop to drive the motor to each position and take a measurement\n",
    "\n",
    "    # You should append the data to this list\n",
    "\n",
    "    # Finally, you should save the data list to a csv file using Pandas\n",
    "\n",
    "\n",
    "\n",
    "# Define the parameters for the automated measurement\n",
    "serial_number = '27004046'\n",
    "start = 0\n",
    "end = 360\n",
    "step = 15\n",
    "data_file = 'data.csv'\n",
    "max_num_failure = 10\n",
    "tol = 0.01\n",
    "integration_time = 100\n",
    "avaspecx64_dll_path='C:/AvaSpecX64-DLL_9.14.0.0/avaspecx64.dll'\n",
    "kinesis_path = 'C:/Program Files/Thorlabs/Kinesis'\n",
    "\n",
    "# Add a dry_run flag to test the code without moving the motor. Turn it off when you are ready to run the measurement.\n",
    "dry_run = True\n",
    "\n",
    "# Run the automated measurement\n",
    "automated_measurement(serial_number, start, end, step, data_file, 5, 0.1, 100, kinesis_path, avaspecx64_dll_path, dry_run)"
   ]
  },
  {
   "cell_type": "markdown",
   "metadata": {},
   "source": [
    "# Task 2: Visualize Your Data\n",
    "You will write a `plot()` function to visualize your data. The function should take the `data_file` as input and save the plot as `f\"plot_{position}.pdf\"`.\n",
    "\n",
    "- The `plot()` function will read the data from the `data_file` using `pandas`, and plot the intensity as a function of the wavelength for each position using `matplotlib`.\n",
    "- The plot should have a title, x-axis label, and y-axis label.\n",
    "- The plot should be saved as separate files for different `position` (e.g., `f\"plot_{position}.pdf\"`).\n",
    "- You will plot 0, 60, 120, 180, 240 (5 plots)\n",
    "- You can use following to convert the string to a list:\n",
    "```python\n",
    "import ast\n",
    "df['col_name'] = df['col_name'].apply(lambda x: ast.literal_eval(x))\n",
    "```\n",
    "- You can select rows with specific values in a column like this (assuming there is only one row can match the value):\n",
    "```python\n",
    "selected_row = df[df['col_name'] == value].iloc[0]\n",
    "```\n",
    "\n",
    "Your code should look like this:\n",
    "```python\n",
    "def plot(data_file, positions):\n",
    "```\n",
    "\n",
    "Then you should be able to run this code:\n",
    "\n",
    "```python\n",
    "plot(data_file, positions)\n",
    "```\n",
    "\n"
   ]
  },
  {
   "cell_type": "code",
   "execution_count": null,
   "metadata": {},
   "outputs": [],
   "source": [
    "# Write plot() here and use it to plot your data\n",
    "def plot(data_file, positions):\n",
    "    # write your code here\n",
    "    \n",
    "plot('data.csv',[0, 60, 120, 180, 240])"
   ]
  },
  {
   "cell_type": "markdown",
   "metadata": {},
   "source": [
    "# Task 3: Angle vs. Integrated Intensity\n",
    "You will also write a `plot_integrated_intensity()` function to plot the integrated intensity as a function of angle abd compare to your previous obtained adsorption vs angle results. The function should take the `data_file` as input and save the plot as `integrated_intensity.pdf`.\n",
    "\n",
    "- You should write a `calculate_integrated_intensity()` function to compute the integrated intensity for each position using `wavelength` and `intensity`. `calculated_integrated_intensity()` function should return a list of integrated intensity for each position.\n",
    "- The integrated intensity is the sum of the intensity at each wavelength for each position. You can use `numpy.trapz()` to calculate the integrated intensity. You can refer to the numpy API here: https://numpy.org/doc/1.25/reference/generated/numpy.trapz.html\n",
    "- The `plot_integrated_intensity()` function will read the data from the `data_file` using `pandas`, calculate the integrated intensity using `calculated_integrated_intensity()`, and plot the integrated intensity as a function of the position using `matplotlib`.\n",
    "- The plot should have a title, x-axis label, and y-axis label.\n",
    "- The plot should be saved as `integrated_intensity.pdf`.\n",
    "- You should compare your integrated intensity plot with the adsorption vs angle results you obtained previously.\n",
    "\n",
    "You should write your function like:\n",
    "\n",
    "```python\n",
    "def calculate_integrated_intensity(wavelength, intensity):\n",
    "    # code\n",
    "    return integrated_intensity\n",
    "\n",
    "def plot_integrated_intensity(data_file):\n",
    "    # code\n",
    "```\n",
    "\n",
    "Then you should be able to run this code:\n",
    "\n",
    "```python\n",
    "plot_integrated_intensity(data_file)\n",
    "```"
   ]
  },
  {
   "cell_type": "code",
   "execution_count": null,
   "metadata": {},
   "outputs": [],
   "source": [
    "# Write calculate_integrated_intensity() here\n",
    "def calculate_integrated_intensity(wavelength, intensity):\n",
    "    # Write your code here\n",
    "    return integrated_intensity"
   ]
  },
  {
   "cell_type": "code",
   "execution_count": null,
   "metadata": {},
   "outputs": [],
   "source": [
    "# Write plot_integrated_intensity() here and use it to plot your data\n",
    "def plot_integrated_intensity(data_file):\n",
    "    # Write your code here\n",
    "    \n",
    "plot_integrated_intensity('data.csv')"
   ]
  }
 ],
 "metadata": {
  "kernelspec": {
   "display_name": ".venv",
   "language": "python",
   "name": "python3"
  },
  "language_info": {
   "name": "python",
   "version": "3.12.7"
  }
 },
 "nbformat": 4,
 "nbformat_minor": 2
}
