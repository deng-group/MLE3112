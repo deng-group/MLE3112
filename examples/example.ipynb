{
 "cells": [
  {
   "cell_type": "markdown",
   "metadata": {},
   "source": [
    "# Examples of Running Experiments Using Python\n",
    "- Author: Zeyu Deng\n",
    "- Email: msedz@nus.edu.sg\n",
    "- Date: 2025-02-01\n",
    "## Set the Location of Libraries\n",
    "You should set the following paths based on your system, the slash should be forward slash (`/`) even on Windows\n"
   ]
  },
  {
   "cell_type": "code",
   "execution_count": null,
   "metadata": {},
   "outputs": [],
   "source": [
    "avaspecx64_dll_path='C:/AvaSpecX64-DLL_9.14.0.0/avaspecx64.dll'\n",
    "kinesis_path = 'C:/Program Files/Thorlabs/Kinesis'"
   ]
  },
  {
   "cell_type": "markdown",
   "metadata": {},
   "source": [
    "## Drive Motors\n",
    "Below is an example of driving the motor. You can set the `position` to the target position (in degrees) that you want to reach. Since the rotation of the motor takes time, you need to specify a tolerance (`tol`) to check if the motor has reached the target position. You also need to set the serial number (`serial_number`) for your motor, which can be found on the motor itself.\n",
    "\n",
    "Sometimes, the motor may fail to drive, and the program will attempt to rerun the motor. However, you need to set a `max_num_failure` to ensure that the program does not run indefinitely."
   ]
  },
  {
   "cell_type": "code",
   "execution_count": null,
   "metadata": {},
   "outputs": [],
   "source": [
    "from mle3112.motor import drive_motor\n",
    "\n",
    "# for single filter\n",
    "ser = '27004046'\n",
    "\n",
    "# Set motor position to 0\n",
    "drive_motor(position=0, serial_number = ser, tol = 0.001, \n",
    "            max_num_failure= 10,\n",
    "            kinesis_path=kinesis_path)"
   ]
  },
  {
   "cell_type": "markdown",
   "metadata": {},
   "source": [
    "## Drive Spectrometer\n",
    "Below is an example of driving the spectrometer. It will return the spectrum of the light source as tuples of `wavelength` and `intensity`."
   ]
  },
  {
   "cell_type": "code",
   "execution_count": null,
   "metadata": {},
   "outputs": [],
   "source": [
    "from mle3112.spectrometer import drive_spectrometer\n",
    "\n",
    "# Get wavelength and intensity from spectrometer for current position\n",
    "wavelength, intensity = drive_spectrometer(avaspecx64_dll_path=avaspecx64_dll_path)"
   ]
  },
  {
   "cell_type": "markdown",
   "metadata": {},
   "source": [
    "## Task 1: Automated Experiment\n",
    "You can create a script to run the experiment automatically. Below is an example of running the experiment\n",
    "\n",
    "You should write automated_measurement() function to run the experiment. The function should return the data you want to save.\n",
    "\n",
    "- You should write the code to run the automated experiment using the arguments above\n",
    "- The data will be saved into `data_file` (in csv format) using `pandas` library\n",
    "- The data file should contain 3 columns: `['position', 'wavelength', 'intensity']`, where `position` is the position (in angle) of the motor, `wavelength` is the wavelength of the spectrometer at each position, and `intensity` is the intensity of the spectrometer at each position\n",
    "\n",
    "```python\n",
    "def automated_measurement(serial_number, start, stop, step, data_file, max_num_failure=10):\n",
    "   # write your code here\n",
    "```\n",
    "\n",
    "Then you should be able to run this code:\n",
    "\n",
    "```python\n",
    "# for single filter\n",
    "ser = '27004046' # you might need to change this to your motor serial number\n",
    "automated_measurement(serial_number = ser, start=0, end=360, step=10)\n",
    "```"
   ]
  },
  {
   "cell_type": "code",
   "execution_count": null,
   "metadata": {},
   "outputs": [],
   "source": [
    "# Write automated_measurement() here and use it to run an automated measurement"
   ]
  },
  {
   "cell_type": "markdown",
   "metadata": {},
   "source": [
    "## Task 2: Visualize Your Data\n",
    "You should write a `plot()` function to visualize your data. The function should take the `data_file` as input and save the plot as `plot.pdf`.\n",
    "\n",
    "- The `plot()` function will read the data from the `data_file` using `pandas`, and plot the intensity as a function of the wavelength for each position using `matplotlib`.\n",
    "- The plot should have a title, x-axis label, y-axis label, and legend.\n",
    "- The plot should be saved as separate files (e.g., `f\"plot_{position}.pdf\"`).\n",
    "- You should also plot the integrated intensity as a function of the position. (Optional)\n",
    "\n",
    "```python\n",
    "def plot(data_file):\n",
    "    # write your code here\n",
    "```\n",
    "\n",
    "Then you should be able to run this code:\n",
    "\n",
    "```python\n",
    "plot(data_file)\n",
    "```"
   ]
  },
  {
   "cell_type": "code",
   "execution_count": null,
   "metadata": {},
   "outputs": [],
   "source": [
    "# Write plot() here and use it to plot your data"
   ]
  }
 ],
 "metadata": {
  "kernelspec": {
   "display_name": "mle3112",
   "language": "python",
   "name": "python3"
  },
  "language_info": {
   "name": "python",
   "version": "3.13.1"
  }
 },
 "nbformat": 4,
 "nbformat_minor": 2
}
