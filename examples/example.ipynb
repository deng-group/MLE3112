{
 "cells": [
  {
   "cell_type": "markdown",
   "metadata": {},
   "source": [
    "# Running Experiments Using Python\n",
    "- Author: Zeyu Deng\n",
    "- Email: msedz@nus.edu.sg\n",
    "- Date: 2025-02-01\n",
    "\n",
    "## Pre-requisite\n",
    "- A computer with Windows OS\n",
    "- Miniconda or Anaconda installed (https://docs.anaconda.com/miniconda/install/)\n",
    "- Visual Studio Code installed (https://code.visualstudio.com/Download)\n",
    "- Git installed (https://git-scm.com/downloads/win)\n",
    "\n",
    "## Setup the Software for Motor\n",
    "### Install Thorlabs Kinesis\n",
    "Install the Kinesis here: https://www.thorlabs.com/software_pages/ViewSoftwarePage.cfm?Code=Motion_Control&viewtab=0\n",
    "- You should install the x64 version\n",
    "\n",
    "### Setup Virtal COM Port\n",
    "This step is needed for using Python to connect to the motor. \n",
    "\n",
    "Plug-in the USB cable. Then open `Device Manager`, find the `APT USB Device` under `Universal Serial Bus Controller`, right click and select properties. Then go to `Advanced` tab and tick `Load VCP`. You should then unplug and plug-in the USB cable again to make the change effective.\n",
    "\n",
    "- Check if the COM port is created properly: it should be displayed in \"COM & LPT\" tab after you plug in the USB cable again.\n",
    "\n",
    "### Confirm the Motor Is Working\n",
    "Open `Kinesis`, then click `Move` for your motor, then set any number as position. Make sure it is moving as expected.\n",
    "\n",
    "### Callibration\n",
    "You should callibrate positions to zero for your motor. \n",
    "\n",
    "Open `Kinesis`, then click `Home` for your motor and make sure you get zero on both the motor and the display. \n",
    "\n",
    "## Setup the Software for Spectrometer\n",
    "There is no need to setup the Virtual COM Port for the spectrometer.\n",
    "\n",
    "### Install Avasoft and AvaSpecDLL\n",
    "You can download the software to drive the spectrometer from the Announcements email.\n",
    "- `Avasoft86Setup.exe`: Install Avasoft\n",
    "- `AvaSpec-DLL/AvaSpecDLLsetup64.exe`: Install AvaSpecDLL\n",
    "\n",
    "### Confirm the Spectrometer Is Working\n",
    "You have done this in your previous Lab session: Connect your computer to the spectrometer using the USB cable. Then open `Avasoft 8` and check if the spectrometer is working: Click `Start` and tick `Autoscale Y-axis`. You should see a spectrum.\n"
   ]
  },
  {
   "cell_type": "markdown",
   "metadata": {},
   "source": [
    "## Install Python Packages In Jupyter Notebook\n",
    "Run following command to install the package. Make sure you have activated the correct environment before running the command."
   ]
  },
  {
   "cell_type": "code",
   "execution_count": null,
   "metadata": {},
   "outputs": [],
   "source": [
    "!pip install git+https://github.com/deng-group/MLE3112.git"
   ]
  },
  {
   "cell_type": "markdown",
   "metadata": {},
   "source": [
    "## Set the Location of Libraries\n",
    "You should set the following paths based on your system, the slash should be forward slash (`/`) even on Windows"
   ]
  },
  {
   "cell_type": "code",
   "execution_count": null,
   "metadata": {},
   "outputs": [],
   "source": [
    "avaspecx64_dll_path='C:/AvaSpecX64-DLL_9.14.0.0/avaspecx64.dll'\n",
    "kinesis_path = 'C:/Program Files/Thorlabs/Kinesis'"
   ]
  },
  {
   "cell_type": "markdown",
   "metadata": {},
   "source": [
    "## Drive Motors\n",
    "Below is an example of driving the motor. You can set the `position` to the target position (in degrees) that you want to reach. Since the rotation of the motor takes time, you need to specify a tolerance (`tol`) to check if the motor has reached the target position. You also need to set the serial number (`serial_number`) for your motor, which can be found on the motor itself.\n",
    "\n",
    "Sometimes, the motor may fail to drive, and the program will attempt to rerun the motor. However, you need to set a `max_num_failure` to ensure that the program does not run indefinitely."
   ]
  },
  {
   "cell_type": "code",
   "execution_count": null,
   "metadata": {},
   "outputs": [],
   "source": [
    "from mle3112.motor import drive_motor\n",
    "\n",
    "# for single filter\n",
    "ser = '27004046'\n",
    "\n",
    "# Set motor position to 0\n",
    "drive_motor(position=0, serial_number = ser, tol = 1e-3, \n",
    "            max_num_failure= 10,\n",
    "            kinesis_path=kinesis_path)"
   ]
  },
  {
   "cell_type": "markdown",
   "metadata": {},
   "source": [
    "## Drive Spectrometer\n",
    "Below is an example of driving the spectrometer. It will return the spectrum of the light source as tuples of `wavelength` and `intensity`."
   ]
  },
  {
   "cell_type": "code",
   "execution_count": null,
   "metadata": {},
   "outputs": [],
   "source": [
    "from mle3112.spectrometer import drive_spectrometer\n",
    "\n",
    "integrated_time = 100 #100 ms\n",
    "# Get wavelength and intensity from spectrometer for current position\n",
    "wavelength, intensity = drive_spectrometer(integration_time=integrated_time, avaspecx64_dll_path=avaspecx64_dll_path)"
   ]
  },
  {
   "cell_type": "markdown",
   "metadata": {},
   "source": [
    "## Task 1: Automated Experiment\n",
    "You can create a script to run the experiment automatically. Below is an example of running the experiment\n",
    "\n",
    "You should write automated_measurement() function to run the experiment. The function should return the data you want to save.\n",
    "\n",
    "- You should write the code to run the automated experiment using the arguments above\n",
    "- The data will be saved into `data_file` (in csv format) using `pandas` library\n",
    "- The data file should contain 3 columns: `['position', 'wavelength', 'intensity']`, where `position` is the position (in angle) of the motor, `wavelength` is the wavelength of the spectrometer at each position, and `intensity` is the intensity of the spectrometer at each position\n",
    "\n",
    "```python\n",
    "def automated_measurement(serial_number, start, stop, step, data_file, max_num_failure, tol, integration_time, kinesis_path, avaspecx64_dll_path):\n",
    "   # write your code here\n",
    "```\n",
    "\n",
    "Then you should be able to run this code:\n",
    "\n",
    "```python\n",
    "# for single filter\n",
    "ser = '27004046' # you might need to change this to your motor serial number\n",
    "automated_measurement(serial_number = ser, start=0, end=360, step=10, \n",
    "                      data_file='data.csv', max_num_failure=5, tol=1e-3, \n",
    "                      integration_time=100, \n",
    "                      kinesis_path='C:/Program Files/Thorlabs/Kinesis', \n",
    "                      avaspecx64_dll_path='C:/AvaSpecX64-DLL_9.14.0.0/avaspecx64.dll')\n",
    "```"
   ]
  },
  {
   "cell_type": "code",
   "execution_count": null,
   "metadata": {},
   "outputs": [],
   "source": [
    "# Write automated_measurement() here and use it to run an automated measurement"
   ]
  },
  {
   "cell_type": "markdown",
   "metadata": {},
   "source": [
    "## Task 2: Visualize Your Data\n",
    "You should write a `plot()` function to visualize your data. The function should take the `data_file` as input and save the plot as `plot.pdf`.\n",
    "\n",
    "- The `plot()` function will read the data from the `data_file` using `pandas`, and plot the intensity as a function of the wavelength for each position using `matplotlib`.\n",
    "- The plot should have a title, x-axis label, and y-axis label.\n",
    "- The plot should be saved as separate files for different `position` (e.g., `f\"plot_{position}.pdf\"`).\n",
    "- You can also try to plot the integrated intensity as a function of the position. (Optional)\n",
    "\n",
    "```python\n",
    "def plot(data_file):\n",
    "    # write your code here\n",
    "```\n",
    "\n",
    "Then you should be able to run this code:\n",
    "\n",
    "```python\n",
    "plot(data_file)\n",
    "```"
   ]
  },
  {
   "cell_type": "code",
   "execution_count": null,
   "metadata": {},
   "outputs": [],
   "source": [
    "# Write plot() here and use it to plot your data"
   ]
  }
 ],
 "metadata": {
  "kernelspec": {
   "display_name": "mle3112",
   "language": "python",
   "name": "python3"
  },
  "language_info": {
   "codemirror_mode": {
    "name": "ipython",
    "version": 3
   },
   "file_extension": ".py",
   "mimetype": "text/x-python",
   "name": "python",
   "nbconvert_exporter": "python",
   "pygments_lexer": "ipython3",
   "version": "3.12.6"
  }
 },
 "nbformat": 4,
 "nbformat_minor": 2
}
