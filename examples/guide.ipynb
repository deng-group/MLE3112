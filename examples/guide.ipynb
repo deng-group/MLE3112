{
 "cells": [
  {
   "cell_type": "markdown",
   "metadata": {},
   "source": [
    "# Running Experiments Using Python\n",
    "- Author: Zeyu Deng\n",
    "- Email: msedz@nus.edu.sg\n",
    "- Date: 2025-02-01\n",
    "\n",
    "## Pre-requisite\n",
    "- A computer with Windows OS\n",
    "- Miniconda or Anaconda installed (https://docs.anaconda.com/miniconda/install/)\n",
    "- Visual Studio Code installed (https://code.visualstudio.com/Download)\n",
    "- Git installed (https://git-scm.com/downloads/win)\n",
    "\n",
    "## Setup the Software for Motor\n",
    "### Install Thorlabs Kinesis\n",
    "Install the Kinesis here: https://www.thorlabs.com/software_pages/ViewSoftwarePage.cfm?Code=Motion_Control&viewtab=0\n",
    "- You should install the x64 version\n",
    "\n",
    "### Setup Virtal COM Port\n",
    "This step is needed for using Python to connect to the motor. \n",
    "\n",
    "Plug-in the USB cable. Then open `Device Manager`, find the `APT USB Device` under `Universal Serial Bus Controller`, right click and select properties. Then go to `Advanced` tab and tick `Load VCP`. You should then unplug and plug-in the USB cable again to make the change effective.\n",
    "\n",
    "- Check if the COM port is created properly: it should be displayed in \"COM & LPT\" tab after you plug in the USB cable again.\n",
    "\n",
    "### Confirm the Motor Is Working\n",
    "Open `Kinesis`, then click `Move` for your motor, then set any number as position. Make sure it is moving as expected.\n",
    "\n",
    "### Callibration\n",
    "You should callibrate positions to zero for your motor. \n",
    "\n",
    "Open `Kinesis`, then click `Home` for your motor and make sure you get zero on both the motor and the display. \n",
    "\n",
    "## Setup the Software for Spectrometer\n",
    "There is no need to setup the Virtual COM Port for the spectrometer.\n",
    "\n",
    "### Install Avasoft and AvaSpecDLL\n",
    "You can download the software to drive the spectrometer from Canvas (`Avantes.zip`). **Unfortunately, you have to uninstall the software after the session as the software is not free.**\n",
    "- `Avasoft86Setup.exe`: Install Avasoft 8. \n",
    "- `AvaSpec-DLL/AvaSpecDLLsetup64.exe`: Install AvaSpecDLL. You can find the password in the pdf file in the zip.\n",
    "\n",
    "### Confirm the Spectrometer Is Working\n",
    "You have done this in your previous Lab session: Connect your computer to the spectrometer using the USB cable. Then open `Avasoft 8` and check if the spectrometer is working: Click `Start` and tick `Autoscale Y-axis`. You should see a spectrum."
   ]
  },
  {
   "cell_type": "markdown",
   "metadata": {},
   "source": [
    "## Install Python Packages In Jupyter Notebook\n",
    "Run following command to install the package. Make sure you have activated the correct environment before running the command."
   ]
  },
  {
   "cell_type": "code",
   "execution_count": null,
   "metadata": {},
   "outputs": [],
   "source": [
    "!pip install git+https://github.com/deng-group/MLE3112.git"
   ]
  },
  {
   "cell_type": "markdown",
   "metadata": {},
   "source": [
    "## Set the Location of Libraries\n",
    "You should set the following paths based on your system, the slash should be forward slash (`/`) even on Windows"
   ]
  },
  {
   "cell_type": "code",
   "execution_count": null,
   "metadata": {},
   "outputs": [],
   "source": [
    "avaspecx64_dll_path='C:/AvaSpecX64-DLL_9.14.0.0/avaspecx64.dll'\n",
    "kinesis_path = 'C:/Program Files/Thorlabs/Kinesis'"
   ]
  },
  {
   "cell_type": "markdown",
   "metadata": {},
   "source": [
    "## Drive Motors\n",
    "Below is an example of driving the motor. You can set the `position` to the target position (in degrees) that you want to reach. Since the rotation of the motor takes time, you need to specify a tolerance (`tol`) to check if the motor has reached the target position. You also need to set the serial number (`serial_number`) for your motor, which can be found on the motor itself.\n",
    "\n",
    "Sometimes, the motor may fail to drive, and the program will attempt to rerun the motor. However, you need to set a `max_num_failure` to ensure that the program does not run indefinitely."
   ]
  },
  {
   "cell_type": "code",
   "execution_count": null,
   "metadata": {},
   "outputs": [],
   "source": [
    "from mle3112.motor import drive_motor\n",
    "\n",
    "# for single filter\n",
    "serial_number = '27004046'\n",
    "\n",
    "# Set motor position to 0\n",
    "drive_motor(position=0, serial_number = serial_number, tol = 1e-3, \n",
    "            max_num_failure= 10,\n",
    "            kinesis_path=kinesis_path)"
   ]
  },
  {
   "cell_type": "markdown",
   "metadata": {},
   "source": [
    "## Drive Spectrometer\n",
    "Below is an example of driving the spectrometer. It will return the spectrum of the light source as tuples of `wavelength` and `intensity`."
   ]
  },
  {
   "cell_type": "code",
   "execution_count": null,
   "metadata": {},
   "outputs": [],
   "source": [
    "from mle3112.spectrometer import drive_spectrometer\n",
    "\n",
    "integrated_time = 100 #100 ms\n",
    "# Get wavelength and intensity from spectrometer for current position\n",
    "wavelength, intensity = drive_spectrometer(integration_time=integrated_time, avaspecx64_dll_path=avaspecx64_dll_path)"
   ]
  },
  {
   "cell_type": "markdown",
   "metadata": {},
   "source": [
    "## Try to Plot the Spectrum\n",
    "You can then plot your results using the `matplotlib`."
   ]
  },
  {
   "cell_type": "code",
   "execution_count": null,
   "metadata": {},
   "outputs": [],
   "source": [
    "import matplotlib.pyplot as plt\n",
    "plt.figure(figsize=(5,5))\n",
    "plt.plot(wavelength, intensity)\n",
    "plt.xlabel('Wavelength (nm)')\n",
    "plt.ylabel('Intensity (a.u.)')\n",
    "plt.title('Intensity vs Wavelength')\n",
    "plt.show()"
   ]
  }
 ],
 "metadata": {
  "kernelspec": {
   "display_name": ".venv",
   "language": "python",
   "name": "python3"
  },
  "language_info": {
   "codemirror_mode": {
    "name": "ipython",
    "version": 3
   },
   "file_extension": ".py",
   "mimetype": "text/x-python",
   "name": "python",
   "nbconvert_exporter": "python",
   "pygments_lexer": "ipython3",
   "version": "3.12.7"
  }
 },
 "nbformat": 4,
 "nbformat_minor": 2
}
